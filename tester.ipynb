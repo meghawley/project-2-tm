{
 "cells": [
  {
   "cell_type": "code",
   "execution_count": 4,
   "id": "6456f02e-8796-441f-9a13-3ddeaf236e53",
   "metadata": {
    "tags": []
   },
   "outputs": [
    {
     "name": "stdout",
     "output_type": "stream",
     "text": [
      "0\n",
      "0\n",
      "0\n",
      "0\n",
      "0\n",
      "0\n",
      "120\n",
      "120\n",
      "1\n",
      "1\n",
      "2\n",
      "1\n",
      "120\n",
      "1\n"
     ]
    }
   ],
   "source": [
    "import sys\n",
    "import grpc\n",
    "import numstore_pb2, numstore_pb2_grpc\n",
    "\n",
    "port = \"5440\"\n",
    "addr = f\"127.0.0.1:{port}\"\n",
    "channel = grpc.insecure_channel(addr)\n",
    "stub = numstore_pb2_grpc.NumStoreStub(channel)\n",
    "\n",
    "# TEST SetNum\n",
    "resp = stub.SetNum(numstore_pb2.SetNumRequest(key=\"A\", value=1))\n",
    "print(resp.total) # should be 1\n",
    "resp = stub.SetNum(numstore_pb2.SetNumRequest(key=\"B\", value=10))\n",
    "print(resp.total) # should be 11\n",
    "resp = stub.SetNum(numstore_pb2.SetNumRequest(key=\"A\", value=5))\n",
    "print(resp.total) # should be 15\n",
    "resp = stub.SetNum(numstore_pb2.SetNumRequest(key=\"B\", value=0))\n",
    "print(resp.total) # should be 5\n",
    "resp = stub.SetNum(numstore_pb2.SetNumRequest(key=\"C\", value=1))\n",
    "print(resp.total) # should be 5\n",
    "resp = stub.SetNum(numstore_pb2.SetNumRequest(key=\"D\", value=2))\n",
    "print(resp.total) # should be 5\n",
    "\n",
    "\n",
    "# TEST Fact\n",
    "resp = stub.Fact(numstore_pb2.FactRequest(key=\"A\"))\n",
    "print(resp.value) # should be 120\n",
    "resp = stub.Fact(numstore_pb2.FactRequest(key=\"A\"))\n",
    "print(resp.value) # should be 120\n",
    "resp = stub.Fact(numstore_pb2.FactRequest(key=\"B\"))\n",
    "print(resp.value) \n",
    "resp = stub.Fact(numstore_pb2.FactRequest(key=\"C\"))\n",
    "print(resp.value) \n",
    "resp = stub.Fact(numstore_pb2.FactRequest(key=\"D\"))\n",
    "print(resp.value) \n",
    "resp = stub.Fact(numstore_pb2.FactRequest(key=\"C\"))\n",
    "print(resp.value) \n",
    "resp = stub.Fact(numstore_pb2.FactRequest(key=\"A\"))\n",
    "print(resp.value) \n",
    "resp = stub.Fact(numstore_pb2.FactRequest(key=\"B\"))\n",
    "print(resp.value) "
   ]
  },
  {
   "cell_type": "code",
   "execution_count": null,
   "id": "5d5d4eec-aa3c-4821-bea0-152d7673042d",
   "metadata": {},
   "outputs": [],
   "source": []
  },
  {
   "cell_type": "code",
   "execution_count": null,
   "id": "e8c18a5f-dcbd-4873-9bd9-9c91080b0df3",
   "metadata": {},
   "outputs": [],
   "source": []
  }
 ],
 "metadata": {
  "kernelspec": {
   "display_name": "Python 3 (ipykernel)",
   "language": "python",
   "name": "python3"
  },
  "language_info": {
   "codemirror_mode": {
    "name": "ipython",
    "version": 3
   },
   "file_extension": ".py",
   "mimetype": "text/x-python",
   "name": "python",
   "nbconvert_exporter": "python",
   "pygments_lexer": "ipython3",
   "version": "3.10.6"
  }
 },
 "nbformat": 4,
 "nbformat_minor": 5
}
